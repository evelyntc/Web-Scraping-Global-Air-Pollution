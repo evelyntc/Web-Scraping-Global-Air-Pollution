{
 "cells": [
  {
   "cell_type": "code",
   "execution_count": 8,
   "metadata": {},
   "outputs": [],
   "source": [
    "import sqlite3\n",
    "import pandas as pd\n",
    "import matplotlib.pyplot as plt\n",
    "import seaborn as sns"
   ]
  },
  {
   "cell_type": "code",
   "execution_count": 9,
   "metadata": {},
   "outputs": [],
   "source": [
    "#connecting to database\n",
    "sql_connect = sqlite3.connect(\"Final_Project.db\")"
   ]
  },
  {
   "cell_type": "code",
   "execution_count": 56,
   "metadata": {},
   "outputs": [],
   "source": [
    "#verifying connection to one of the tables\n",
    "\n",
    "#def is_opened(conn):\n",
    "##    try:\n",
    "   #     conn.execute(\"SELECT * FROM US_Pollution LIMIT 1\")\n",
    "   #     return True\n",
    "   ## except sqlite3.ProgrammingError as e:\n",
    "    #    print(\"Connection closed {}\".format(e))\n",
    "     #   return False\n",
    "#print(is_opened(sql_connect))"
   ]
  },
  {
   "cell_type": "code",
   "execution_count": 60,
   "metadata": {},
   "outputs": [],
   "source": [
    "#cursor allows us to execute SQL queries against a db\n",
    "cursor = sql_connect.cursor()"
   ]
  },
  {
   "cell_type": "code",
   "execution_count": 61,
   "metadata": {},
   "outputs": [],
   "source": [
    "#making a variable to the table I want to select from\n",
    "query = 'SELECT * FROM India_Pollution'"
   ]
  },
  {
   "cell_type": "code",
   "execution_count": 62,
   "metadata": {},
   "outputs": [],
   "source": [
    "#executing to the db and using the India Pollution table\n",
    "results = cursor.execute(query).fetchall()"
   ]
  },
  {
   "cell_type": "code",
   "execution_count": 63,
   "metadata": {},
   "outputs": [
    {
     "data": {
      "text/html": [
       "<div>\n",
       "<style scoped>\n",
       "    .dataframe tbody tr th:only-of-type {\n",
       "        vertical-align: middle;\n",
       "    }\n",
       "\n",
       "    .dataframe tbody tr th {\n",
       "        vertical-align: top;\n",
       "    }\n",
       "\n",
       "    .dataframe thead th {\n",
       "        text-align: right;\n",
       "    }\n",
       "</style>\n",
       "<table border=\"1\" class=\"dataframe\">\n",
       "  <thead>\n",
       "    <tr style=\"text-align: right;\">\n",
       "      <th></th>\n",
       "      <th>city</th>\n",
       "      <th>coordinates</th>\n",
       "      <th>country</th>\n",
       "      <th>date</th>\n",
       "      <th>location</th>\n",
       "      <th>parameter</th>\n",
       "      <th>unit</th>\n",
       "      <th>value</th>\n",
       "    </tr>\n",
       "  </thead>\n",
       "  <tbody>\n",
       "    <tr>\n",
       "      <td>0</td>\n",
       "      <td>Delhi</td>\n",
       "      <td>{'latitude': 28.60909, 'longitude': 77.0325413}</td>\n",
       "      <td>IN</td>\n",
       "      <td>{'local': '2020-03-31T05:30:00+05:30', 'utc': ...</td>\n",
       "      <td>NSIT Dwarka, Delhi - CPCB</td>\n",
       "      <td>so2</td>\n",
       "      <td>µg/m³</td>\n",
       "      <td>20.31</td>\n",
       "    </tr>\n",
       "    <tr>\n",
       "      <td>1</td>\n",
       "      <td>Delhi</td>\n",
       "      <td>{'latitude': 28.6514781, 'longitude': 77.1473105}</td>\n",
       "      <td>IN</td>\n",
       "      <td>{'local': '2020-03-31T05:30:00+05:30', 'utc': ...</td>\n",
       "      <td>Shadipur, Delhi - CPCB</td>\n",
       "      <td>so2</td>\n",
       "      <td>µg/m³</td>\n",
       "      <td>7.30</td>\n",
       "    </tr>\n",
       "    <tr>\n",
       "      <td>2</td>\n",
       "      <td>Delhi</td>\n",
       "      <td>{'latitude': 28.6811736, 'longitude': 77.3025234}</td>\n",
       "      <td>IN</td>\n",
       "      <td>{'local': '2020-03-31T05:30:00+05:30', 'utc': ...</td>\n",
       "      <td>IHBAS, Dilshad Garden, Delhi - CPCB</td>\n",
       "      <td>so2</td>\n",
       "      <td>µg/m³</td>\n",
       "      <td>11.78</td>\n",
       "    </tr>\n",
       "    <tr>\n",
       "      <td>3</td>\n",
       "      <td>Delhi</td>\n",
       "      <td>{'latitude': 28.563262, 'longitude': 77.186937}</td>\n",
       "      <td>IN</td>\n",
       "      <td>{'local': '2020-03-31T05:30:00+05:30', 'utc': ...</td>\n",
       "      <td>R K Puram, Delhi - DPCC</td>\n",
       "      <td>so2</td>\n",
       "      <td>µg/m³</td>\n",
       "      <td>8.50</td>\n",
       "    </tr>\n",
       "    <tr>\n",
       "      <td>4</td>\n",
       "      <td>Delhi</td>\n",
       "      <td>{'latitude': 28.7500499, 'longitude': 77.1112615}</td>\n",
       "      <td>IN</td>\n",
       "      <td>{'local': '2020-03-31T05:30:00+05:30', 'utc': ...</td>\n",
       "      <td>DTU, Delhi - CPCB</td>\n",
       "      <td>so2</td>\n",
       "      <td>µg/m³</td>\n",
       "      <td>5.80</td>\n",
       "    </tr>\n",
       "    <tr>\n",
       "      <td>...</td>\n",
       "      <td>...</td>\n",
       "      <td>...</td>\n",
       "      <td>...</td>\n",
       "      <td>...</td>\n",
       "      <td>...</td>\n",
       "      <td>...</td>\n",
       "      <td>...</td>\n",
       "      <td>...</td>\n",
       "    </tr>\n",
       "    <tr>\n",
       "      <td>95</td>\n",
       "      <td>Delhi</td>\n",
       "      <td>{'latitude': 28.5504249, 'longitude': 77.2159377}</td>\n",
       "      <td>IN</td>\n",
       "      <td>{'local': '2020-03-31T04:30:00+05:30', 'utc': ...</td>\n",
       "      <td>Sirifort, Delhi - CPCB</td>\n",
       "      <td>so2</td>\n",
       "      <td>µg/m³</td>\n",
       "      <td>3.60</td>\n",
       "    </tr>\n",
       "    <tr>\n",
       "      <td>96</td>\n",
       "      <td>Delhi</td>\n",
       "      <td>{'latitude': 28.674045, 'longitude': 77.131023}</td>\n",
       "      <td>IN</td>\n",
       "      <td>{'local': '2020-03-31T04:30:00+05:30', 'utc': ...</td>\n",
       "      <td>Punjabi Bagh, Delhi - DPCC</td>\n",
       "      <td>so2</td>\n",
       "      <td>µg/m³</td>\n",
       "      <td>9.80</td>\n",
       "    </tr>\n",
       "    <tr>\n",
       "      <td>97</td>\n",
       "      <td>Delhi</td>\n",
       "      <td>{'latitude': 28.5710274, 'longitude': 77.0719006}</td>\n",
       "      <td>IN</td>\n",
       "      <td>{'local': '2020-03-31T04:30:00+05:30', 'utc': ...</td>\n",
       "      <td>Dwarka-Sector 8, Delhi - DPCC</td>\n",
       "      <td>so2</td>\n",
       "      <td>µg/m³</td>\n",
       "      <td>11.50</td>\n",
       "    </tr>\n",
       "    <tr>\n",
       "      <td>98</td>\n",
       "      <td>Delhi</td>\n",
       "      <td>{'latitude': 28.58028, 'longitude': 77.233829}</td>\n",
       "      <td>IN</td>\n",
       "      <td>{'local': '2020-03-31T04:30:00+05:30', 'utc': ...</td>\n",
       "      <td>Jawaharlal Nehru Stadium, Delhi - DPCC</td>\n",
       "      <td>so2</td>\n",
       "      <td>µg/m³</td>\n",
       "      <td>22.00</td>\n",
       "    </tr>\n",
       "    <tr>\n",
       "      <td>99</td>\n",
       "      <td>Delhi</td>\n",
       "      <td>{'latitude': 28.56789, 'longitude': 77.250515}</td>\n",
       "      <td>IN</td>\n",
       "      <td>{'local': '2020-03-31T04:30:00+05:30', 'utc': ...</td>\n",
       "      <td>Nehru Nagar, Delhi - DPCC</td>\n",
       "      <td>so2</td>\n",
       "      <td>µg/m³</td>\n",
       "      <td>6.80</td>\n",
       "    </tr>\n",
       "  </tbody>\n",
       "</table>\n",
       "<p>100 rows × 8 columns</p>\n",
       "</div>"
      ],
      "text/plain": [
       "     city                                        coordinates country  \\\n",
       "0   Delhi    {'latitude': 28.60909, 'longitude': 77.0325413}      IN   \n",
       "1   Delhi  {'latitude': 28.6514781, 'longitude': 77.1473105}      IN   \n",
       "2   Delhi  {'latitude': 28.6811736, 'longitude': 77.3025234}      IN   \n",
       "3   Delhi    {'latitude': 28.563262, 'longitude': 77.186937}      IN   \n",
       "4   Delhi  {'latitude': 28.7500499, 'longitude': 77.1112615}      IN   \n",
       "..    ...                                                ...     ...   \n",
       "95  Delhi  {'latitude': 28.5504249, 'longitude': 77.2159377}      IN   \n",
       "96  Delhi    {'latitude': 28.674045, 'longitude': 77.131023}      IN   \n",
       "97  Delhi  {'latitude': 28.5710274, 'longitude': 77.0719006}      IN   \n",
       "98  Delhi     {'latitude': 28.58028, 'longitude': 77.233829}      IN   \n",
       "99  Delhi     {'latitude': 28.56789, 'longitude': 77.250515}      IN   \n",
       "\n",
       "                                                 date  \\\n",
       "0   {'local': '2020-03-31T05:30:00+05:30', 'utc': ...   \n",
       "1   {'local': '2020-03-31T05:30:00+05:30', 'utc': ...   \n",
       "2   {'local': '2020-03-31T05:30:00+05:30', 'utc': ...   \n",
       "3   {'local': '2020-03-31T05:30:00+05:30', 'utc': ...   \n",
       "4   {'local': '2020-03-31T05:30:00+05:30', 'utc': ...   \n",
       "..                                                ...   \n",
       "95  {'local': '2020-03-31T04:30:00+05:30', 'utc': ...   \n",
       "96  {'local': '2020-03-31T04:30:00+05:30', 'utc': ...   \n",
       "97  {'local': '2020-03-31T04:30:00+05:30', 'utc': ...   \n",
       "98  {'local': '2020-03-31T04:30:00+05:30', 'utc': ...   \n",
       "99  {'local': '2020-03-31T04:30:00+05:30', 'utc': ...   \n",
       "\n",
       "                                  location parameter   unit  value  \n",
       "0                NSIT Dwarka, Delhi - CPCB       so2  µg/m³  20.31  \n",
       "1                   Shadipur, Delhi - CPCB       so2  µg/m³   7.30  \n",
       "2      IHBAS, Dilshad Garden, Delhi - CPCB       so2  µg/m³  11.78  \n",
       "3                  R K Puram, Delhi - DPCC       so2  µg/m³   8.50  \n",
       "4                        DTU, Delhi - CPCB       so2  µg/m³   5.80  \n",
       "..                                     ...       ...    ...    ...  \n",
       "95                  Sirifort, Delhi - CPCB       so2  µg/m³   3.60  \n",
       "96              Punjabi Bagh, Delhi - DPCC       so2  µg/m³   9.80  \n",
       "97          Dwarka-Sector 8, Delhi - DPCC        so2  µg/m³  11.50  \n",
       "98  Jawaharlal Nehru Stadium, Delhi - DPCC       so2  µg/m³  22.00  \n",
       "99               Nehru Nagar, Delhi - DPCC       so2  µg/m³   6.80  \n",
       "\n",
       "[100 rows x 8 columns]"
      ]
     },
     "execution_count": 63,
     "metadata": {},
     "output_type": "execute_result"
    }
   ],
   "source": [
    "#reading results into pandas df\n",
    "india_poll_table = pd.read_sql_query(query,sql_connect)"
   ]
  },
  {
   "cell_type": "code",
   "execution_count": 55,
   "metadata": {},
   "outputs": [
    {
     "data": {
      "text/plain": [
       "Text(0.5, 0.98, 'SO2 values in Delhi India on March 31st')"
      ]
     },
     "execution_count": 55,
     "metadata": {},
     "output_type": "execute_result"
    },
    {
     "data": {
      "image/png": "[encoded data removed]",
      "text/plain": [
       "<Figure size 360x360 with 1 Axes>"
      ]
     },
     "metadata": {
      "needs_background": "light"
     },
     "output_type": "display_data"
    }
   ],
   "source": [
    "# Creating a histogram of the SO2 value in Delhi \n",
    "fig = plt.figure(figsize=(5,5))\n",
    "ax = fig.add_subplot(111)\n",
    "\n",
    "\n",
    "query = '''\n",
    "SELECT value\n",
    "FROM India_Pollution\n",
    "'''\n",
    "pd.read_sql_query(query, sql_connect).hist(ax=ax)\n",
    "fig.suptitle(\"SO2 values in Delhi India on March 31st\")\n",
    "\n",
    "#Value of SO2 in Delhi India on March 31st because of Covid-19 lockdowns"
   ]
  },
  {
   "cell_type": "code",
   "execution_count": 85,
   "metadata": {},
   "outputs": [
    {
     "data": {
      "text/plain": [
       "Text(0, 0.5, 'Value')"
      ]
     },
     "execution_count": 85,
     "metadata": {},
     "output_type": "execute_result"
    },
    {
     "data": {
      "image/png": "[encoded data removed]",
      "text/plain": [
       "<Figure size 432x288 with 1 Axes>"
      ]
     },
     "metadata": {
      "needs_background": "light"
     },
     "output_type": "display_data"
    }
   ],
   "source": [
    "# Scatterplot from Polluted_Cities of which countries have \n",
    "\n",
    "query2 = 'SELECT year, Country FROM Polluted_Cities'\n",
    "results2 = cursor.execute(query2).fetchall()\n",
    "df = pd.DataFrame(list(results2), columns=['year', 'Country'])\n",
    "x = df.year\n",
    "y = df.Country\n",
    "plt.title(\"Country pollution\", fontsize=\"14\")\n",
    "plt.scatter(x,y,s=100)\n",
    "plt.xlabel(\"Pollution in Country\")\n",
    "plt.ylabel(\"Value\")"
   ]
  },
  {
   "cell_type": "code",
   "execution_count": 71,
   "metadata": {},
   "outputs": [
    {
     "data": {
      "text/plain": [
       "array([<matplotlib.axes._subplots.AxesSubplot object at 0x0000023114844248>],\n",
       "      dtype=object)"
      ]
     },
     "execution_count": 71,
     "metadata": {},
     "output_type": "execute_result"
    },
    {
     "data": {
      "image/png": "[encoded data removed]",
      "text/plain": [
       "<Figure size 360x360 with 1 Axes>"
      ]
     },
     "metadata": {
      "needs_background": "light"
     },
     "output_type": "display_data"
    }
   ],
   "source": [
    "# Creating a histogram of the SO2 value in Delhi \n",
    "fig = plt.figure(figsize=(5,5))\n",
    "ax = fig.add_subplot(111)\n",
    "\n",
    "\n",
    "query = '''\n",
    "SELECT PM10\n",
    "FROM Polluted_Cities\n",
    "'''\n",
    "pd.read_sql_query(query, sql_connect).hist(ax=ax)\n",
    "#fig.suptitle(\"\")\n"
   ]
  },
  {
   "cell_type": "code",
   "execution_count": 74,
   "metadata": {},
   "outputs": [
    {
     "data": {
      "text/plain": [
       "array([<matplotlib.axes._subplots.AxesSubplot object at 0x000002312A65CEC8>],\n",
       "      dtype=object)"
      ]
     },
     "execution_count": 74,
     "metadata": {},
     "output_type": "execute_result"
    },
    {
     "data": {
      "image/png": "[encoded data removed]",
      "text/plain": [
       "<Figure size 360x360 with 1 Axes>"
      ]
     },
     "metadata": {
      "needs_background": "light"
     },
     "output_type": "display_data"
    }
   ],
   "source": [
    "#Using the Polluted Cities Table\n",
    "fig = plt.figure(figsize=(5,5))\n",
    "ax = fig.add_subplot(111)\n",
    "\n",
    "\n",
    "query = '''\n",
    "SELECT year\n",
    "FROM Polluted_Cities\n",
    "'''\n",
    "pd.read_sql_query(query, sql_connect).hist(ax=ax)\n",
    "fig.suptitle(\"Year with most air pollution entries\")\n"
   ]
  },
  {
   "cell_type": "code",
   "execution_count": null,
   "metadata": {},
   "outputs": [],
   "source": []
  }
 ],
 "metadata": {
  "kernelspec": {
   "display_name": "Python 3",
   "language": "python",
   "name": "python3"
  },
  "language_info": {
   "codemirror_mode": {
    "name": "ipython",
    "version": 3
   },
   "file_extension": ".py",
   "mimetype": "text/x-python",
   "name": "python",
   "nbconvert_exporter": "python",
   "pygments_lexer": "ipython3",
   "version": "3.7.4"
  }
 },
 "nbformat": 4,
 "nbformat_minor": 2
}
